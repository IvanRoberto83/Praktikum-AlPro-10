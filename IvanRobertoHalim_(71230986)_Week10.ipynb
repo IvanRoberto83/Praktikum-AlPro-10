{
  "nbformat": 4,
  "nbformat_minor": 0,
  "metadata": {
    "colab": {
      "provenance": []
    },
    "kernelspec": {
      "name": "python3",
      "display_name": "Python 3"
    },
    "language_info": {
      "name": "python"
    }
  },
  "cells": [
    {
      "cell_type": "code",
      "execution_count": 1,
      "metadata": {
        "colab": {
          "base_uri": "https://localhost:8080/"
        },
        "id": "cAqXBg_qrusn",
        "outputId": "e41ba0e6-e42b-4125-d0fe-d14f9d61fb79"
      },
      "outputs": [
        {
          "output_type": "stream",
          "name": "stdout",
          "text": [
            "List = [0, 10, 5, 25, 50, 15, 40, 35, 30, 50, 50, 20]\n",
            "3 nilai terbaik = 50, 40, 35\n"
          ]
        }
      ],
      "source": [
        "#Soal 1\n",
        "\n",
        "ini_list = [0,10,5,25,50,15,40,35,30,50,50,20]\n",
        "new = []\n",
        "\n",
        "for i in ini_list:\n",
        "    if i not in new:\n",
        "        new.append(i)\n",
        "new.sort()\n",
        "\n",
        "print(f\"List = {ini_list}\")\n",
        "print(f\"3 nilai terbaik = {new[-1]}, {new[-2]}, {new[-3]}\")"
      ]
    },
    {
      "cell_type": "code",
      "source": [
        "#Soal 2\n",
        "\n",
        "ini_list = []\n",
        "\n",
        "a = True\n",
        "while a:\n",
        "    input_user = int(input(\"Masukkan angka : \"))\n",
        "    ini_list.append(input_user)\n",
        "\n",
        "    while a:\n",
        "        x = input(\"Lanjut menginput data? ('y' = lanjut / 'done' = selesai) : \").lower()\n",
        "\n",
        "        if x == 'done':\n",
        "            print(ini_list)\n",
        "            print(f\"Nilai maksimumnya adalah : {max(ini_list)}\")\n",
        "            print(f\"Nilai minimumnya adalah : {min(ini_list)}\")\n",
        "            a = False\n",
        "\n",
        "        elif x == 'y':\n",
        "            break\n",
        "\n",
        "        else:\n",
        "            print(\"Silahkan ketik 'y' atau 'done'\")"
      ],
      "metadata": {
        "colab": {
          "base_uri": "https://localhost:8080/"
        },
        "id": "HaEZvtYZr_Ji",
        "outputId": "009bc6b8-5481-44f7-f95f-6e0cf09ac49d"
      },
      "execution_count": 2,
      "outputs": [
        {
          "output_type": "stream",
          "name": "stdout",
          "text": [
            "Masukkan angka : 82\n",
            "Lanjut menginput data? ('y' = lanjut / 'done' = selesai) : y\n",
            "Masukkan angka : 10\n",
            "Lanjut menginput data? ('y' = lanjut / 'done' = selesai) : Y\n",
            "Masukkan angka : 45\n",
            "Lanjut menginput data? ('y' = lanjut / 'done' = selesai) : Y\n",
            "Masukkan angka : 90\n",
            "Lanjut menginput data? ('y' = lanjut / 'done' = selesai) : y\n",
            "Masukkan angka : 50\n",
            "Lanjut menginput data? ('y' = lanjut / 'done' = selesai) : Y\n",
            "Masukkan angka : 30\n",
            "Lanjut menginput data? ('y' = lanjut / 'done' = selesai) : n\n",
            "Silahkan ketik 'y' atau 'done'\n",
            "Lanjut menginput data? ('y' = lanjut / 'done' = selesai) : Selesai\n",
            "Silahkan ketik 'y' atau 'done'\n",
            "Lanjut menginput data? ('y' = lanjut / 'done' = selesai) : Done\n",
            "[82, 10, 45, 90, 50, 30]\n",
            "Nilai maksimumnya adalah : 90\n",
            "Nilai minimumnya adalah : 10\n"
          ]
        }
      ]
    }
  ]
}